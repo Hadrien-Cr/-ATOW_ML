{
 "cells": [
  {
   "cell_type": "code",
   "execution_count": 1,
   "metadata": {},
   "outputs": [
    {
     "ename": "ModuleNotFoundError",
     "evalue": "No module named 'hyperopt'",
     "output_type": "error",
     "traceback": [
      "\u001b[1;31m---------------------------------------------------------------------------\u001b[0m",
      "\u001b[1;31mModuleNotFoundError\u001b[0m                       Traceback (most recent call last)",
      "Cell \u001b[1;32mIn[1], line 4\u001b[0m\n\u001b[0;32m      2\u001b[0m \u001b[38;5;28;01mimport\u001b[39;00m \u001b[38;5;21;01mpandas\u001b[39;00m \u001b[38;5;28;01mas\u001b[39;00m \u001b[38;5;21;01mpd\u001b[39;00m\n\u001b[0;32m      3\u001b[0m \u001b[38;5;28;01mimport\u001b[39;00m \u001b[38;5;21;01mxgboost\u001b[39;00m \u001b[38;5;28;01mas\u001b[39;00m \u001b[38;5;21;01mxgb\u001b[39;00m\n\u001b[1;32m----> 4\u001b[0m \u001b[38;5;28;01mimport\u001b[39;00m \u001b[38;5;21;01mhyperopt\u001b[39;00m \u001b[38;5;28;01mas\u001b[39;00m \u001b[38;5;21;01mhpt\u001b[39;00m\n\u001b[0;32m      5\u001b[0m \u001b[38;5;28;01mfrom\u001b[39;00m \u001b[38;5;21;01mpreprocessing\u001b[39;00m\u001b[38;5;21;01m.\u001b[39;00m\u001b[38;5;21;01mcountry_and_airports_codes\u001b[39;00m \u001b[38;5;28;01mimport\u001b[39;00m compute_lon_lat,group_and_rename_countries, group_and_rename_airports, group_and_rename_aircraft_types\n\u001b[0;32m      6\u001b[0m \u001b[38;5;28;01mfrom\u001b[39;00m \u001b[38;5;21;01mpreprocessing\u001b[39;00m\u001b[38;5;21;01m.\u001b[39;00m\u001b[38;5;21;01mencoding\u001b[39;00m \u001b[38;5;28;01mimport\u001b[39;00m one_hot_encoding,string_to_value_count, string_to_int_hashing\n",
      "\u001b[1;31mModuleNotFoundError\u001b[0m: No module named 'hyperopt'"
     ]
    }
   ],
   "source": [
    "import numpy as numpy\n",
    "import pandas as pd\n",
    "import xgboost as xgb\n",
    "import hyperopt as hpt\n",
    "from preprocessing.country_and_airports_codes import compute_lon_lat,group_and_rename_countries, group_and_rename_airports, group_and_rename_aircraft_types\n",
    "from preprocessing.encoding import one_hot_encoding,string_to_value_count, string_to_int_hashing\n",
    "from preprocessing.local_time import add_localtime_to_train_and_test"
   ]
  },
  {
   "cell_type": "code",
   "execution_count": null,
   "metadata": {},
   "outputs": [],
   "source": [
    "space = {'max_depth': hpt.hp.quniform('max_depth', 2, 10, 1),\n",
    "         'gamma': hpt.hp.uniform('gamma', 0.1, 5),\n",
    "         'reg_alpha': hpt.hp.uniform('reg_alpha', 0.1, 5),\n",
    "         'reg_lambda': hpt.hp.uniform('reg_lambda', 0.1, 5),\n",
    "         'learning_rate': hpt.hp.uniform('learning_rate', 0.01, 0.2),\n",
    "         'n_estimators': hpt.hp.quniform('n_estimators', 100, 1000, 1),\n",
    "         'min_child_weight': hpt.hp.quniform('min_child_weight', 1, 10, 1),\n",
    "         'subsample': hpt.hp.uniform('subsample', 0.5, 1),\n",
    "         'colsample_bytree': hpt.hp.uniform('colsample_bytree', 0.5, 1),\n",
    "         'seed': 0}"
   ]
  },
  {
   "cell_type": "code",
   "execution_count": null,
   "metadata": {},
   "outputs": [],
   "source": [
    "train_df = pd.read_csv(\"./data/preprocessed_challenge_set.csv\", index_col=0)\n",
    "test_df = pd.read_csv(\"./data/preprocessed_submission_set.csv\", index_col=0)\n",
    "\n",
    "# encoding\n",
    "\n",
    "columns_to_ohe = [] # A changer\n",
    "one_hot_encoding(train_df, test_df, columns_to_ohe)\n",
    "\n",
    "columns_to_hash = ['callsign','country_code_ades', 'country_code_adep', 'adep', 'ades', 'airline','aircraft_type','wtc'] # A changer\n",
    "string_to_int_hashing(train_df, test_df, columns_to_hash)\n",
    "\n",
    "columns_to_vc = [] # A changer\n",
    "string_to_value_count(train_df, test_df, columns_to_vc)\n",
    "\n",
    "# drop unusefull column:\n",
    "to_drop = ['flight_id','date','name_adep','name_ades','name_adep','actual_offblock_time','arrival_time','local_departure_time','local_arrival_time']\n",
    "train_df = train_df.drop(columns= to_drop)\n",
    "test_df = test_df.drop(columns= to_drop)\n",
    "\n"
   ]
  }
 ],
 "metadata": {
  "kernelspec": {
   "display_name": "ATOW_env",
   "language": "python",
   "name": "python3"
  },
  "language_info": {
   "codemirror_mode": {
    "name": "ipython",
    "version": 3
   },
   "file_extension": ".py",
   "mimetype": "text/x-python",
   "name": "python",
   "nbconvert_exporter": "python",
   "pygments_lexer": "ipython3",
   "version": "3.9.20"
  }
 },
 "nbformat": 4,
 "nbformat_minor": 2
}
